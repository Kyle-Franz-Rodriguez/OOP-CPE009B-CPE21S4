{
  "nbformat": 4,
  "nbformat_minor": 0,
  "metadata": {
    "colab": {
      "provenance": [],
      "authorship_tag": "ABX9TyPu/3zAoZR8WfSfMR1G5P4v",
      "include_colab_link": true
    },
    "kernelspec": {
      "name": "python3",
      "display_name": "Python 3"
    },
    "language_info": {
      "name": "python"
    }
  },
  "cells": [
    {
      "cell_type": "markdown",
      "metadata": {
        "id": "view-in-github",
        "colab_type": "text"
      },
      "source": [
        "<a href=\"https://colab.research.google.com/github/Kyle-Franz-Rodriguez/OOP-CPE009B-CPE21S4/blob/main/Exercise-2/Exercise_2.ipynb\" target=\"_parent\"><img src=\"https://colab.research.google.com/assets/colab-badge.svg\" alt=\"Open In Colab\"/></a>"
      ]
    },
    {
      "cell_type": "markdown",
      "source": [
        "# **Example Exercise**"
      ],
      "metadata": {
        "id": "HqTYA9OwXirM"
      }
    },
    {
      "cell_type": "markdown",
      "source": [
        "Making class called \"Foo\" and define a function called add within"
      ],
      "metadata": {
        "id": "F3vDXrNcXYgt"
      }
    },
    {
      "cell_type": "code",
      "execution_count": 4,
      "metadata": {
        "colab": {
          "base_uri": "https://localhost:8080/"
        },
        "id": "CYCQuc2NWb48",
        "outputId": "bf6f1206-f5cc-42f9-efec-014c4cb873d5"
      },
      "outputs": [
        {
          "output_type": "stream",
          "name": "stdout",
          "text": [
            "Foo a = 3\n",
            "Foo b = 4\n",
            "Sum = 7\n"
          ]
        }
      ],
      "source": [
        "class Foo:\n",
        "  def __init__(self, a,b):\n",
        "    self.a = a\n",
        "    self.b = b\n",
        "  def add(self):\n",
        "    return self.a + self.b\n",
        "\n",
        "#main\n",
        "foo_object = Foo(3,4)\n",
        "print(\"Foo a =\",foo_object.a)\n",
        "print(\"Foo b =\",foo_object.b)\n",
        "print(\"Sum =\",foo_object.add())"
      ]
    },
    {
      "cell_type": "markdown",
      "source": [
        "Example 2: complete program by adding name. Make sure it prints every behavior of a function. Appy encapsulation by adding a single underscore for private variables."
      ],
      "metadata": {
        "id": "uox0LJ96Z1xU"
      }
    },
    {
      "cell_type": "code",
      "source": [
        "class Counter:\n",
        "  def __init__(self):\n",
        "    #in this case, \"current is our private variable, that's why it is now named \"_current\"\n",
        "    self._current = 0\n",
        "  def increment(self):\n",
        "    self._current +=1\n",
        "  def value(self):\n",
        "    return self._current\n",
        "  def reset(self):\n",
        "    self._current = 0\n",
        "\n",
        "#Main\n",
        "count = Counter()\n",
        "print(\"Current value =\",count._current)\n",
        "print(\"Increment =\",count.increment())\n",
        "print(\"Value after =\",count.value())\n",
        "print(\"Reset value =\",count.reset())\n",
        "print(\"New value =\",count._current)"
      ],
      "metadata": {
        "colab": {
          "base_uri": "https://localhost:8080/"
        },
        "id": "dYJSqn1kZ3z9",
        "outputId": "b988fe5c-d20b-47fc-aa3b-857bfefb80b2"
      },
      "execution_count": 17,
      "outputs": [
        {
          "output_type": "stream",
          "name": "stdout",
          "text": [
            "Current value = 0\n",
            "Increment = None\n",
            "Value after = 1\n",
            "Reset value = None\n",
            "New value = 0\n"
          ]
        }
      ]
    }
  ]
}