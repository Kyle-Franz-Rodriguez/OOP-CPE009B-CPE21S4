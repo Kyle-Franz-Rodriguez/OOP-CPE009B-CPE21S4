{
  "nbformat": 4,
  "nbformat_minor": 0,
  "metadata": {
    "colab": {
      "provenance": []
    },
    "kernelspec": {
      "name": "python3",
      "display_name": "Python 3"
    },
    "language_info": {
      "name": "python"
    }
  },
  "cells": [
    {
      "cell_type": "code",
      "execution_count": 78,
      "metadata": {
        "id": "p9wEwx-ElQlx"
      },
      "outputs": [],
      "source": [
        "class Employee:\n",
        "  def __init__(self,emp_id,emp_name,emp_address):\n",
        "    self._emp_id = emp_id\n",
        "    self._emp_name = emp_name\n",
        "    self._emp_address = emp_address\n",
        "  def show(self):\n",
        "    emps = [self._emp_id,self._emp_name,self._emp_address]\n",
        "    return emps\n",
        "\n",
        "class FullTime:\n",
        "  def __init__(self,allowance,rate):\n",
        "    self.allowance = allowance\n",
        "    self.rate = rate\n",
        "  def show(self):\n",
        "    print(\"Allowance:\",self.allowance)\n",
        "    print(\"Rate:\",self.rate)\n",
        "\n",
        "class PartTime(FullTime):\n",
        "  pass\n",
        "\n",
        "class Salary:\n",
        "  def __init__(self,salary_id,salary,cut_off_date,days_of_work):\n",
        "    self.salary_id = salary_id\n",
        "    self.salary = salary\n",
        "    self.cut_off_date = cut_off_date\n",
        "    self.days_of_work = days_of_work\n",
        "\n",
        "  def show(self):\n",
        "    print(\"Salary ID:\",self.salary_id)\n",
        "    print(\"Salary:\",self.salary)\n",
        "    print(\"Valid from\",self.days_of_work,\"to\",self.cut_off_date)\n",
        "    print()\n"
      ]
    },
    {
      "cell_type": "code",
      "source": [
        "#Employee\n",
        "employee1 = Employee(123456, \"John Doe\", \"New Hampshire\")\n",
        "employee2 = Employee(654321, \"Jane Doe\", \"Old York\")\n",
        "\n",
        "#Fulltime\n",
        "fulltimer = FullTime(1000,200)\n",
        "\n",
        "#PartTime\n",
        "parttimer = PartTime(500,50)\n",
        "\n",
        "#Salary\n",
        "salary1 = Salary(98765,50000,\"December 25, 2069\",\"February 2, 2068\")\n",
        "salary2 = Salary(56789,15000,\"August 09, 2046\",\"May 16, 2046\")\n",
        "\n",
        "print(\"Employees:\")\n",
        "print()\n",
        "print(\"Full Time Employee\")\n",
        "print(employee1.show())\n",
        "fulltimer.show()\n",
        "salary1.show()\n",
        "\n",
        "print(\"Part Time Employee\")\n",
        "print(employee2.show())\n",
        "parttimer.show()\n",
        "salary2.show()\n",
        "\n"
      ],
      "metadata": {
        "colab": {
          "base_uri": "https://localhost:8080/"
        },
        "id": "CQ7zaMxNpsS4",
        "outputId": "129310b6-ac84-4703-dd29-052b42502e98"
      },
      "execution_count": 86,
      "outputs": [
        {
          "output_type": "stream",
          "name": "stdout",
          "text": [
            "Employees:\n",
            "\n",
            "Full Time Employee\n",
            "[123456, 'John Doe', 'New Hampshire']\n",
            "Allowance: 1000\n",
            "Rate: 200\n",
            "Salary ID: 98765\n",
            "Salary: 50000\n",
            "Valid from February 2, 2068 to December 25, 2069\n",
            "\n",
            "Part Time Employee\n",
            "[654321, 'Jane Doe', 'Old York']\n",
            "Allowance: 500\n",
            "Rate: 50\n",
            "Salary ID: 56789\n",
            "Salary: 15000\n",
            "Valid from May 16, 2046 to August 09, 2046\n",
            "\n"
          ]
        }
      ]
    }
  ]
}
