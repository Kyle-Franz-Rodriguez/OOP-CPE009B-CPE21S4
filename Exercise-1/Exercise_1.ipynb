{
  "nbformat": 4,
  "nbformat_minor": 0,
  "metadata": {
    "colab": {
      "provenance": [],
      "authorship_tag": "ABX9TyNyYA180pZLHAgeWEtdvWw+",
      "include_colab_link": true
    },
    "kernelspec": {
      "name": "python3",
      "display_name": "Python 3"
    },
    "language_info": {
      "name": "python"
    }
  },
  "cells": [
    {
      "cell_type": "markdown",
      "metadata": {
        "id": "view-in-github",
        "colab_type": "text"
      },
      "source": [
        "<a href=\"https://colab.research.google.com/github/Kyle-Franz-Rodriguez/OOP-CPE009B-CPE21S4/blob/main/Exercise-1/Exercise_1.ipynb\" target=\"_parent\"><img src=\"https://colab.research.google.com/assets/colab-badge.svg\" alt=\"Open In Colab\"/></a>"
      ]
    },
    {
      "cell_type": "markdown",
      "source": [
        "# **Class Constructor**"
      ],
      "metadata": {
        "id": "A23E0RB_GDP-"
      }
    },
    {
      "cell_type": "markdown",
      "source": [
        "Constructing a class"
      ],
      "metadata": {
        "id": "XtOjS92lIGdP"
      }
    },
    {
      "cell_type": "code",
      "execution_count": null,
      "metadata": {
        "id": "e-T5PRutGBKm"
      },
      "outputs": [],
      "source": [
        "class Number():\n",
        "  def __init__(self,anyvar):\n",
        "    self.anyvar=anyvar #DEFINING ATTRIBUTES\n",
        "  def trythis(self): #You can add any functions under the class you built\n",
        "    output = self.anyvar * 2\n",
        "    return output\n"
      ]
    },
    {
      "cell_type": "markdown",
      "source": [
        "Object instantiation"
      ],
      "metadata": {
        "id": "8LcvfDDKIKRI"
      }
    },
    {
      "cell_type": "code",
      "source": [
        "userint = int(input(\"Pick any number: \"))\n",
        "obj= Number(userint) #Congrats, you just placed an object in the class\n",
        "obj2= obj.trythis() #Calling the function\n",
        "print(obj2)"
      ],
      "metadata": {
        "colab": {
          "base_uri": "https://localhost:8080/"
        },
        "id": "gIkiQeCKHBTp",
        "outputId": "42d42eb2-b6f4-47e1-f8af-34a31e31b768"
      },
      "execution_count": null,
      "outputs": [
        {
          "output_type": "stream",
          "name": "stdout",
          "text": [
            "Pick any number: 5\n",
            "10\n"
          ]
        }
      ]
    },
    {
      "cell_type": "markdown",
      "source": [
        "Example 1"
      ],
      "metadata": {
        "id": "SS95Akd6IL6V"
      }
    },
    {
      "cell_type": "code",
      "source": [
        "class Person:\n",
        "  def __init__(self,name,age,birthday):\n",
        "    self.name=name\n",
        "    self.age=age\n",
        "    self.birthday=birthday\n",
        "  def identity(self):\n",
        "    return f\"My name is {self.name} and I am {self.age} years old, born on {self.birthday}\""
      ],
      "metadata": {
        "id": "m_xXQqAxIOtS"
      },
      "execution_count": null,
      "outputs": []
    },
    {
      "cell_type": "markdown",
      "source": [
        "Object instantiation"
      ],
      "metadata": {
        "id": "KVTOL6OdLn4-"
      }
    },
    {
      "cell_type": "code",
      "source": [
        "person = Person(\"John Doe\",69,\"June 9, 1942\")\n",
        "print(person.identity())"
      ],
      "metadata": {
        "colab": {
          "base_uri": "https://localhost:8080/"
        },
        "id": "LUoVWYbAI8P9",
        "outputId": "48662247-34cc-43ed-d0d6-c384e456b6fc"
      },
      "execution_count": null,
      "outputs": [
        {
          "output_type": "stream",
          "name": "stdout",
          "text": [
            "My name is John Doe and I am 69 years old, born on June 9, 1942\n"
          ]
        }
      ]
    },
    {
      "cell_type": "markdown",
      "source": [
        "# **Inheritance**"
      ],
      "metadata": {
        "id": "3ix-dL14NoYt"
      }
    },
    {
      "cell_type": "markdown",
      "source": [
        "Creating a sub class using the function of the parent class. (\"Parent class\" is just a fancy name for the class you want to inherit from)"
      ],
      "metadata": {
        "id": "28QPKg3ONvg9"
      }
    },
    {
      "cell_type": "code",
      "source": [
        "class Teacher(Person): #Notice here that I placed the class name of the class that I want to inherit from\n",
        "  def __init__(self,name,age,birthday):\n",
        "    super().__init__(name,age,birthday)"
      ],
      "metadata": {
        "id": "k9xeKJrCNtiE"
      },
      "execution_count": null,
      "outputs": []
    },
    {
      "cell_type": "markdown",
      "source": [
        "Using pass also does the same"
      ],
      "metadata": {
        "id": "KKUI75n2RLFF"
      }
    },
    {
      "cell_type": "code",
      "source": [
        "class Student(Person): #Notice here that I placed the class name of the class that I want to inherit from\n",
        "  pass"
      ],
      "metadata": {
        "id": "VNidi5MUQCF0"
      },
      "execution_count": null,
      "outputs": []
    },
    {
      "cell_type": "markdown",
      "source": [
        "Object instantiation"
      ],
      "metadata": {
        "id": "WgMFyPu5PRJk"
      }
    },
    {
      "cell_type": "code",
      "source": [
        "student = Student(\"Mark\",14,2009)\n",
        "print(student.identity())\n",
        "\n",
        "\n"
      ],
      "metadata": {
        "colab": {
          "base_uri": "https://localhost:8080/"
        },
        "id": "LhNFsk6LPSYk",
        "outputId": "e2a077c2-f337-4586-f02f-56caba248870"
      },
      "execution_count": null,
      "outputs": [
        {
          "output_type": "stream",
          "name": "stdout",
          "text": [
            "My name is Mark and I am 14 years old, born on 2009\n"
          ]
        }
      ]
    },
    {
      "cell_type": "markdown",
      "source": [
        "Application Exercise:\n",
        "instantiate for the teacher"
      ],
      "metadata": {
        "id": "h21_2RwLR_XP"
      }
    },
    {
      "cell_type": "code",
      "source": [
        "teacher = Teacher(\"Bethany\", 49, 1952)\n",
        "print(teacher.identity())"
      ],
      "metadata": {
        "colab": {
          "base_uri": "https://localhost:8080/"
        },
        "id": "gKb6elUsSFzV",
        "outputId": "db937544-8569-40d0-c001-1ccd8c461bd4"
      },
      "execution_count": null,
      "outputs": [
        {
          "output_type": "stream",
          "name": "stdout",
          "text": [
            "My name is Bethany and I am 49 years old, born on 1952\n"
          ]
        }
      ]
    },
    {
      "cell_type": "markdown",
      "source": [
        "# **Challenge**"
      ],
      "metadata": {
        "id": "VNGftedDSyhJ"
      }
    },
    {
      "cell_type": "markdown",
      "source": [],
      "metadata": {
        "id": "p7fdgk6STbB8"
      }
    },
    {
      "cell_type": "code",
      "source": [
        "class Shapes():\n",
        "  def __init__(self,side1,side2):\n",
        "    self.side1=side1\n",
        "    self.side2=side2\n",
        "  def area(self):\n",
        "    return self.side1 * self.side2\n",
        "\n",
        "class Rectangle(Shapes):\n",
        "  pass\n",
        "  def perimeter(self):\n",
        "    return 2 * (self.side1 + self.side2)\n",
        "\n",
        "class Square(Shapes):\n",
        "  def __init__(self, side1):\n",
        "    super().__init__(side1, side1)\n",
        "  def perimeter(self):\n",
        "    return 4 * self.side1"
      ],
      "metadata": {
        "id": "R8lhrUkgTbIM"
      },
      "execution_count": null,
      "outputs": []
    },
    {
      "cell_type": "markdown",
      "source": [
        "Object instantiation"
      ],
      "metadata": {
        "id": "7qyZBt72cL10"
      }
    },
    {
      "cell_type": "code",
      "source": [
        "#Area\n",
        "rectangle = Rectangle(10,5)\n",
        "square = Square(10)\n",
        "print(\"Area_Rectangle:\",rectangle.area())\n",
        "print(\"Area_Square:\",square.area())\n",
        "\n",
        "#Perimeter\n",
        "print(\"Perimeter_Rectangle:\",rectangle.perimeter())\n",
        "print(\"Perimeter_Square:\",square.perimeter())"
      ],
      "metadata": {
        "colab": {
          "base_uri": "https://localhost:8080/"
        },
        "id": "j4qyBQ0pUUEE",
        "outputId": "94f2e9f1-9db4-4b88-92d4-d54351c9a737"
      },
      "execution_count": null,
      "outputs": [
        {
          "output_type": "stream",
          "name": "stdout",
          "text": [
            "Area_Rectangle: 50\n",
            "Area_Square: 100\n",
            "Perimeter_Rectangle: 30\n",
            "Perimeter_Square: 40\n"
          ]
        }
      ]
    }
  ]
}